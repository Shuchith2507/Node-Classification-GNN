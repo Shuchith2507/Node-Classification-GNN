{
 "cells": [
  {
   "cell_type": "code",
   "execution_count": 1,
   "id": "584b1f87",
   "metadata": {
    "editable": false,
    "execution": {
     "iopub.execute_input": "2023-04-23T11:50:37.149061Z",
     "iopub.status.busy": "2023-04-23T11:50:37.148506Z",
     "iopub.status.idle": "2023-04-23T11:51:07.998072Z",
     "shell.execute_reply": "2023-04-23T11:51:07.996257Z"
    },
    "papermill": {
     "duration": 30.863653,
     "end_time": "2023-04-23T11:51:08.001837",
     "exception": false,
     "start_time": "2023-04-23T11:50:37.138184",
     "status": "completed"
    },
    "tags": []
   },
   "outputs": [
    {
     "name": "stdout",
     "output_type": "stream",
     "text": [
      "\u001b[33mWARNING: Running pip as the 'root' user can result in broken permissions and conflicting behaviour with the system package manager. It is recommended to use a virtual environment instead: https://pip.pypa.io/warnings/venv\u001b[0m\u001b[33m\r\n",
      "\u001b[0m"
     ]
    }
   ],
   "source": [
    "!pip install -q torch-geometric"
   ]
  },
  {
   "cell_type": "code",
   "execution_count": 2,
   "id": "7a676003",
   "metadata": {
    "editable": false,
    "execution": {
     "iopub.execute_input": "2023-04-23T11:51:08.017771Z",
     "iopub.status.busy": "2023-04-23T11:51:08.017206Z",
     "iopub.status.idle": "2023-04-23T11:51:11.805353Z",
     "shell.execute_reply": "2023-04-23T11:51:11.803899Z"
    },
    "papermill": {
     "duration": 3.8,
     "end_time": "2023-04-23T11:51:11.808598",
     "exception": false,
     "start_time": "2023-04-23T11:51:08.008598",
     "status": "completed"
    },
    "tags": []
   },
   "outputs": [],
   "source": [
    "import torch\n",
    "import torch.nn as nn\n",
    "import torch.optim as optim\n",
    "from torch_geometric.data import Data\n",
    "from torch_geometric.nn import GCNConv\n",
    "import pandas as pd\n",
    "import numpy as np"
   ]
  },
  {
   "cell_type": "code",
   "execution_count": 3,
   "id": "f9046191",
   "metadata": {
    "execution": {
     "iopub.execute_input": "2023-04-23T11:51:11.824232Z",
     "iopub.status.busy": "2023-04-23T11:51:11.822729Z",
     "iopub.status.idle": "2023-04-23T11:51:13.385053Z",
     "shell.execute_reply": "2023-04-23T11:51:13.383672Z"
    },
    "papermill": {
     "duration": 1.573641,
     "end_time": "2023-04-23T11:51:13.388461",
     "exception": false,
     "start_time": "2023-04-23T11:51:11.814820",
     "status": "completed"
    },
    "tags": []
   },
   "outputs": [],
   "source": [
    "import pandas as pd\n",
    "import networkx as nx\n",
    "import numpy as np\n",
    "import torch\n",
    "import torch_geometric\n",
    "from torch_geometric.data import Data\n",
    "from torch_geometric.nn import GCNConv\n",
    "import torch.nn.functional as F\n",
    "from sklearn.model_selection import train_test_split\n",
    "from sklearn.preprocessing import LabelEncoder\n",
    "from sklearn.metrics import accuracy_score"
   ]
  },
  {
   "cell_type": "code",
   "execution_count": 4,
   "id": "b802be7d",
   "metadata": {
    "editable": false,
    "execution": {
     "iopub.execute_input": "2023-04-23T11:51:13.404270Z",
     "iopub.status.busy": "2023-04-23T11:51:13.403161Z",
     "iopub.status.idle": "2023-04-23T11:51:13.492734Z",
     "shell.execute_reply": "2023-04-23T11:51:13.491503Z"
    },
    "papermill": {
     "duration": 0.101081,
     "end_time": "2023-04-23T11:51:13.496215",
     "exception": false,
     "start_time": "2023-04-23T11:51:13.395134",
     "status": "completed"
    },
    "tags": []
   },
   "outputs": [],
   "source": [
    "\n",
    "# Load the node_data.csv file and edgelist.csv\n",
    "node_list = pd.read_csv('/kaggle/input/ue20cs344-nam-assignment-2/node_data.csv')\n",
    "edgelist = pd.read_csv('/kaggle/input/ue20cs344-nam-assignment-2/edgelist.csv')"
   ]
  },
  {
   "cell_type": "code",
   "execution_count": 5,
   "id": "67756315",
   "metadata": {
    "editable": false,
    "execution": {
     "iopub.execute_input": "2023-04-23T11:51:13.511782Z",
     "iopub.status.busy": "2023-04-23T11:51:13.510761Z",
     "iopub.status.idle": "2023-04-23T11:51:13.516484Z",
     "shell.execute_reply": "2023-04-23T11:51:13.515027Z"
    },
    "papermill": {
     "duration": 0.016893,
     "end_time": "2023-04-23T11:51:13.519393",
     "exception": false,
     "start_time": "2023-04-23T11:51:13.502500",
     "status": "completed"
    },
    "tags": []
   },
   "outputs": [],
   "source": [
    "# node2vec = Node2Vec(, dimensions=64, walk_length=20, num_walks=10)\n",
    "# model = node2vec.fit(window=10, min_count=1)\n",
    "# node2vec_embeddings = torch.tensor([model.wv[str(node)] for node in node_list['id']])"
   ]
  },
  {
   "cell_type": "code",
   "execution_count": 6,
   "id": "5e8f1ecf",
   "metadata": {
    "execution": {
     "iopub.execute_input": "2023-04-23T11:51:13.533831Z",
     "iopub.status.busy": "2023-04-23T11:51:13.533256Z",
     "iopub.status.idle": "2023-04-23T11:51:13.854498Z",
     "shell.execute_reply": "2023-04-23T11:51:13.852967Z"
    },
    "papermill": {
     "duration": 0.332497,
     "end_time": "2023-04-23T11:51:13.857902",
     "exception": false,
     "start_time": "2023-04-23T11:51:13.525405",
     "status": "completed"
    },
    "tags": []
   },
   "outputs": [],
   "source": [
    "# Create a networkx graph from the edge list\n",
    "\n",
    "G = nx.from_pandas_edgelist(edgelist, source='source', target='target')\n",
    "G.add_nodes_from(node_list['id'])"
   ]
  },
  {
   "cell_type": "code",
   "execution_count": 7,
   "id": "846583fb",
   "metadata": {
    "execution": {
     "iopub.execute_input": "2023-04-23T11:51:13.872862Z",
     "iopub.status.busy": "2023-04-23T11:51:13.871970Z",
     "iopub.status.idle": "2023-04-23T11:51:14.203002Z",
     "shell.execute_reply": "2023-04-23T11:51:14.201537Z"
    },
    "papermill": {
     "duration": 0.342261,
     "end_time": "2023-04-23T11:51:14.206358",
     "exception": false,
     "start_time": "2023-04-23T11:51:13.864097",
     "status": "completed"
    },
    "tags": []
   },
   "outputs": [],
   "source": [
    "%matplotlib inline\n",
    "import matplotlib.pyplot as plt\n",
    "from sklearn.manifold import TSNE"
   ]
  },
  {
   "cell_type": "code",
   "execution_count": 8,
   "id": "1d660dc5",
   "metadata": {
    "execution": {
     "iopub.execute_input": "2023-04-23T11:51:14.222748Z",
     "iopub.status.busy": "2023-04-23T11:51:14.221174Z",
     "iopub.status.idle": "2023-04-23T11:51:14.227232Z",
     "shell.execute_reply": "2023-04-23T11:51:14.226118Z"
    },
    "papermill": {
     "duration": 0.017388,
     "end_time": "2023-04-23T11:51:14.229951",
     "exception": false,
     "start_time": "2023-04-23T11:51:14.212563",
     "status": "completed"
    },
    "tags": []
   },
   "outputs": [],
   "source": [
    "# node_colors = []\n",
    "# for _, node_data in node_list.iterrows():\n",
    "#     if node_data['branch'] == 'CSE':\n",
    "#         node_colors.append('blue')\n",
    "#     elif node_data['branch'] == 'ECE':\n",
    "#         node_colors.append('green')\n",
    "#     elif node_data['branch'] == 'EEE':\n",
    "#         node_colors.append('red')\n",
    "#     else:\n",
    "#          node_colors.append('pink')\n",
    "        \n",
    "\n",
    "# # Plot the graph before building the model\n",
    "# plt.figure(figsize=(10, 7))\n",
    "# nx.draw(G, node_color=node_colors, with_labels=False)\n",
    "# plt.title('Graph Visualization (Before Building GCN Model)')\n",
    "# plt.show()"
   ]
  },
  {
   "cell_type": "code",
   "execution_count": 9,
   "id": "cf0b7202",
   "metadata": {
    "editable": false,
    "execution": {
     "iopub.execute_input": "2023-04-23T11:51:14.245616Z",
     "iopub.status.busy": "2023-04-23T11:51:14.244165Z",
     "iopub.status.idle": "2023-04-23T11:51:14.575421Z",
     "shell.execute_reply": "2023-04-23T11:51:14.573898Z"
    },
    "papermill": {
     "duration": 0.342818,
     "end_time": "2023-04-23T11:51:14.578915",
     "exception": false,
     "start_time": "2023-04-23T11:51:14.236097",
     "status": "completed"
    },
    "tags": []
   },
   "outputs": [],
   "source": [
    "# Extract node features from features.pt file\n",
    "node_features = torch.load('/kaggle/input/ue20cs344-nam-assignment-2/features.pt')"
   ]
  },
  {
   "cell_type": "code",
   "execution_count": 10,
   "id": "a447fd29",
   "metadata": {
    "editable": false,
    "execution": {
     "iopub.execute_input": "2023-04-23T11:51:14.594695Z",
     "iopub.status.busy": "2023-04-23T11:51:14.593237Z",
     "iopub.status.idle": "2023-04-23T11:51:15.003381Z",
     "shell.execute_reply": "2023-04-23T11:51:15.001990Z"
    },
    "papermill": {
     "duration": 0.421582,
     "end_time": "2023-04-23T11:51:15.006808",
     "exception": false,
     "start_time": "2023-04-23T11:51:14.585226",
     "status": "completed"
    },
    "tags": []
   },
   "outputs": [],
   "source": [
    "node_id_map = {node_id: i for i, node_id in enumerate(node_list['id'])}\n",
    "\n",
    "# Create edge_index tensor from the edgelist\n",
    "edge_index = torch.tensor([[node_id_map[source], node_id_map[target]] \n",
    "                           for source, target in zip(edgelist['source'], edgelist['target'])], \n",
    "                          dtype=torch.long).t().contiguous()"
   ]
  },
  {
   "cell_type": "code",
   "execution_count": 11,
   "id": "7675dc40",
   "metadata": {
    "editable": false,
    "execution": {
     "iopub.execute_input": "2023-04-23T11:51:15.023892Z",
     "iopub.status.busy": "2023-04-23T11:51:15.023317Z",
     "iopub.status.idle": "2023-04-23T11:51:15.063302Z",
     "shell.execute_reply": "2023-04-23T11:51:15.061688Z"
    },
    "papermill": {
     "duration": 0.052183,
     "end_time": "2023-04-23T11:51:15.066925",
     "exception": false,
     "start_time": "2023-04-23T11:51:15.014742",
     "status": "completed"
    },
    "tags": []
   },
   "outputs": [],
   "source": [
    "# Create train_mask and test_mask tensors from node_data.csv\n",
    "train_mask = torch.tensor(node_list['train_mask'].values, dtype=torch.bool)\n",
    "test_mask = torch.tensor(node_list['test_mask'].values, dtype=torch.bool)\n",
    "\n",
    "# # Create label tensor from node_data.csv\n",
    "# labels = torch.tensor(node_data_df['branch'].values)\n",
    "\n",
    "\n",
    "\n",
    "# Create a mapping of branch labels to numerical values\n",
    "label_map = {label: i for i, label in enumerate(node_list['branch'].unique())}\n",
    "\n",
    "\n",
    "# Replace branch labels with their corresponding numerical values\n",
    "node_list['branch'] = node_list['branch'].map(label_map)\n",
    "\n",
    "# print(label_map[\"ECE\"])\n",
    "# print(label_map[\"EEE\"])\n",
    "# print(label_map[\"CSE\"])\n",
    "\n",
    "\n",
    "# Convert labels to tensor object\n",
    "labels = torch.tensor(node_list['branch'].values, dtype=torch.long)\n",
    "\n",
    "# Create a PyG Data object\n",
    "data = Data(x=node_features, edge_index=edge_index, train_mask=train_mask, test_mask=test_mask, y=labels)"
   ]
  },
  {
   "cell_type": "code",
   "execution_count": 12,
   "id": "7fbf37d2",
   "metadata": {
    "editable": false,
    "execution": {
     "iopub.execute_input": "2023-04-23T11:51:15.082071Z",
     "iopub.status.busy": "2023-04-23T11:51:15.081498Z",
     "iopub.status.idle": "2023-04-23T11:51:15.088177Z",
     "shell.execute_reply": "2023-04-23T11:51:15.086626Z"
    },
    "papermill": {
     "duration": 0.018089,
     "end_time": "2023-04-23T11:51:15.091359",
     "exception": false,
     "start_time": "2023-04-23T11:51:15.073270",
     "status": "completed"
    },
    "tags": []
   },
   "outputs": [],
   "source": [
    "# combined_features = torch.cat([node_features, node2vec_embeddings], dim=1)"
   ]
  },
  {
   "cell_type": "markdown",
   "id": "bfeb4209",
   "metadata": {
    "editable": false,
    "papermill": {
     "duration": 0.00637,
     "end_time": "2023-04-23T11:51:15.104361",
     "exception": false,
     "start_time": "2023-04-23T11:51:15.097991",
     "status": "completed"
    },
    "tags": []
   },
   "source": [
    "# **GCN Model**"
   ]
  },
  {
   "cell_type": "code",
   "execution_count": 13,
   "id": "5a98af01",
   "metadata": {
    "editable": false,
    "execution": {
     "iopub.execute_input": "2023-04-23T11:51:15.120376Z",
     "iopub.status.busy": "2023-04-23T11:51:15.119858Z",
     "iopub.status.idle": "2023-04-23T11:51:15.129146Z",
     "shell.execute_reply": "2023-04-23T11:51:15.127290Z"
    },
    "papermill": {
     "duration": 0.021158,
     "end_time": "2023-04-23T11:51:15.132170",
     "exception": false,
     "start_time": "2023-04-23T11:51:15.111012",
     "status": "completed"
    },
    "tags": []
   },
   "outputs": [],
   "source": [
    "# Define the GCN model\n",
    "class GCN(nn.Module):\n",
    "    def __init__(self, input_dim, hidden_dim, output_dim):\n",
    "        super(GCN, self).__init__()\n",
    "        self.conv1 = GCNConv(input_dim, hidden_dim)\n",
    "        self.conv2 = GCNConv(hidden_dim, 3)\n",
    "\n",
    "    def forward(self, data):\n",
    "        x, edge_index = data.x, data.edge_index\n",
    "        x = self.conv1(x, edge_index)\n",
    "        x = torch.relu(x)\n",
    "        x = self.conv2(x, edge_index)\n",
    "        return x"
   ]
  },
  {
   "cell_type": "code",
   "execution_count": 14,
   "id": "1da44f54",
   "metadata": {
    "execution": {
     "iopub.execute_input": "2023-04-23T11:51:15.148714Z",
     "iopub.status.busy": "2023-04-23T11:51:15.147347Z",
     "iopub.status.idle": "2023-04-23T11:51:15.175091Z",
     "shell.execute_reply": "2023-04-23T11:51:15.173385Z"
    },
    "papermill": {
     "duration": 0.039896,
     "end_time": "2023-04-23T11:51:15.178624",
     "exception": false,
     "start_time": "2023-04-23T11:51:15.138728",
     "status": "completed"
    },
    "tags": []
   },
   "outputs": [],
   "source": [
    "# Initialize the GCN model\n",
    "input_dim = node_features.shape[1]\n",
    "hidden_dim = 128\n",
    "output_dim = 3 # Assuming binary classification problem with two branches\n",
    "model = GCN(input_dim, hidden_dim, output_dim)\n",
    "\n",
    "# Define the loss function and optimizer\n",
    "criterion = nn.CrossEntropyLoss()\n",
    "optimizer = optim.Adam(model.parameters(), lr=0.075)"
   ]
  },
  {
   "cell_type": "code",
   "execution_count": 15,
   "id": "962377c5",
   "metadata": {
    "editable": false,
    "execution": {
     "iopub.execute_input": "2023-04-23T11:51:15.194072Z",
     "iopub.status.busy": "2023-04-23T11:51:15.193542Z",
     "iopub.status.idle": "2023-04-23T11:52:28.904105Z",
     "shell.execute_reply": "2023-04-23T11:52:28.902575Z"
    },
    "papermill": {
     "duration": 73.722189,
     "end_time": "2023-04-23T11:52:28.907350",
     "exception": false,
     "start_time": "2023-04-23T11:51:15.185161",
     "status": "completed"
    },
    "tags": []
   },
   "outputs": [
    {
     "name": "stdout",
     "output_type": "stream",
     "text": [
      "Epoch [1/200], Loss: 1.0979\n",
      "Epoch [2/200], Loss: 1.0745\n",
      "Epoch [3/200], Loss: 1.0070\n",
      "Epoch [4/200], Loss: 0.9294\n",
      "Epoch [5/200], Loss: 0.8830\n",
      "Epoch [6/200], Loss: 0.8109\n",
      "Epoch [7/200], Loss: 0.6896\n",
      "Epoch [8/200], Loss: 0.6483\n",
      "Epoch [9/200], Loss: 0.5786\n",
      "Epoch [10/200], Loss: 0.5066\n",
      "Epoch [11/200], Loss: 0.4744\n",
      "Epoch [12/200], Loss: 0.4439\n",
      "Epoch [13/200], Loss: 0.4384\n",
      "Epoch [14/200], Loss: 0.4065\n",
      "Epoch [15/200], Loss: 0.4215\n",
      "Epoch [16/200], Loss: 0.4173\n",
      "Epoch [17/200], Loss: 0.4067\n",
      "Epoch [18/200], Loss: 0.4054\n",
      "Epoch [19/200], Loss: 0.4033\n",
      "Epoch [20/200], Loss: 0.4004\n",
      "Epoch [21/200], Loss: 0.3843\n",
      "Epoch [22/200], Loss: 0.3893\n",
      "Epoch [23/200], Loss: 0.3824\n",
      "Epoch [24/200], Loss: 0.3719\n",
      "Epoch [25/200], Loss: 0.3685\n",
      "Epoch [26/200], Loss: 0.3638\n",
      "Epoch [27/200], Loss: 0.3591\n",
      "Epoch [28/200], Loss: 0.3497\n",
      "Epoch [29/200], Loss: 0.3514\n",
      "Epoch [30/200], Loss: 0.3456\n",
      "Epoch [31/200], Loss: 0.3407\n",
      "Epoch [32/200], Loss: 0.3402\n",
      "Epoch [33/200], Loss: 0.3371\n",
      "Epoch [34/200], Loss: 0.3338\n",
      "Epoch [35/200], Loss: 0.3313\n",
      "Epoch [36/200], Loss: 0.3316\n",
      "Epoch [37/200], Loss: 0.3269\n",
      "Epoch [38/200], Loss: 0.3270\n",
      "Epoch [39/200], Loss: 0.3249\n",
      "Epoch [40/200], Loss: 0.3227\n",
      "Epoch [41/200], Loss: 0.3202\n",
      "Epoch [42/200], Loss: 0.3195\n",
      "Epoch [43/200], Loss: 0.3162\n",
      "Epoch [44/200], Loss: 0.3150\n",
      "Epoch [45/200], Loss: 0.3136\n",
      "Epoch [46/200], Loss: 0.3116\n",
      "Epoch [47/200], Loss: 0.3100\n",
      "Epoch [48/200], Loss: 0.3092\n",
      "Epoch [49/200], Loss: 0.3070\n",
      "Epoch [50/200], Loss: 0.3061\n",
      "Epoch [51/200], Loss: 0.3048\n",
      "Epoch [52/200], Loss: 0.3035\n",
      "Epoch [53/200], Loss: 0.3022\n",
      "Epoch [54/200], Loss: 0.3014\n",
      "Epoch [55/200], Loss: 0.2996\n",
      "Epoch [56/200], Loss: 0.2989\n",
      "Epoch [57/200], Loss: 0.2974\n",
      "Epoch [58/200], Loss: 0.2962\n",
      "Epoch [59/200], Loss: 0.2951\n",
      "Epoch [60/200], Loss: 0.2939\n",
      "Epoch [61/200], Loss: 0.2927\n",
      "Epoch [62/200], Loss: 0.2917\n",
      "Epoch [63/200], Loss: 0.2906\n",
      "Epoch [64/200], Loss: 0.2896\n",
      "Epoch [65/200], Loss: 0.2887\n",
      "Epoch [66/200], Loss: 0.2876\n",
      "Epoch [67/200], Loss: 0.2867\n",
      "Epoch [68/200], Loss: 0.2857\n",
      "Epoch [69/200], Loss: 0.2847\n",
      "Epoch [70/200], Loss: 0.2838\n",
      "Epoch [71/200], Loss: 0.2828\n",
      "Epoch [72/200], Loss: 0.2818\n",
      "Epoch [73/200], Loss: 0.2808\n",
      "Epoch [74/200], Loss: 0.2799\n",
      "Epoch [75/200], Loss: 0.2789\n",
      "Epoch [76/200], Loss: 0.2780\n",
      "Epoch [77/200], Loss: 0.2771\n",
      "Epoch [78/200], Loss: 0.2761\n",
      "Epoch [79/200], Loss: 0.2752\n",
      "Epoch [80/200], Loss: 0.2743\n",
      "Epoch [81/200], Loss: 0.2733\n",
      "Epoch [82/200], Loss: 0.2724\n",
      "Epoch [83/200], Loss: 0.2714\n",
      "Epoch [84/200], Loss: 0.2705\n",
      "Epoch [85/200], Loss: 0.2696\n",
      "Epoch [86/200], Loss: 0.2687\n",
      "Epoch [87/200], Loss: 0.2678\n",
      "Epoch [88/200], Loss: 0.2669\n",
      "Epoch [89/200], Loss: 0.2659\n",
      "Epoch [90/200], Loss: 0.2650\n",
      "Epoch [91/200], Loss: 0.2640\n",
      "Epoch [92/200], Loss: 0.2631\n",
      "Epoch [93/200], Loss: 0.2621\n",
      "Epoch [94/200], Loss: 0.2612\n",
      "Epoch [95/200], Loss: 0.2603\n",
      "Epoch [96/200], Loss: 0.2595\n",
      "Epoch [97/200], Loss: 0.2590\n",
      "Epoch [98/200], Loss: 0.2593\n",
      "Epoch [99/200], Loss: 0.2595\n",
      "Epoch [100/200], Loss: 0.2585\n",
      "Epoch [101/200], Loss: 0.2569\n",
      "Epoch [102/200], Loss: 0.2549\n",
      "Epoch [103/200], Loss: 0.2533\n",
      "Epoch [104/200], Loss: 0.2523\n",
      "Epoch [105/200], Loss: 0.2518\n",
      "Epoch [106/200], Loss: 0.2516\n",
      "Epoch [107/200], Loss: 0.2515\n",
      "Epoch [108/200], Loss: 0.2514\n",
      "Epoch [109/200], Loss: 0.2508\n",
      "Epoch [110/200], Loss: 0.2496\n",
      "Epoch [111/200], Loss: 0.2478\n",
      "Epoch [112/200], Loss: 0.2462\n",
      "Epoch [113/200], Loss: 0.2447\n",
      "Epoch [114/200], Loss: 0.2435\n",
      "Epoch [115/200], Loss: 0.2427\n",
      "Epoch [116/200], Loss: 0.2420\n",
      "Epoch [117/200], Loss: 0.2415\n",
      "Epoch [118/200], Loss: 0.2414\n",
      "Epoch [119/200], Loss: 0.2423\n",
      "Epoch [120/200], Loss: 0.2447\n",
      "Epoch [121/200], Loss: 0.2503\n",
      "Epoch [122/200], Loss: 0.2526\n",
      "Epoch [123/200], Loss: 0.2531\n",
      "Epoch [124/200], Loss: 0.2407\n",
      "Epoch [125/200], Loss: 0.2345\n",
      "Epoch [126/200], Loss: 0.2393\n",
      "Epoch [127/200], Loss: 0.2424\n",
      "Epoch [128/200], Loss: 0.2385\n",
      "Epoch [129/200], Loss: 0.2317\n",
      "Epoch [130/200], Loss: 0.2334\n",
      "Epoch [131/200], Loss: 0.2372\n",
      "Epoch [132/200], Loss: 0.2328\n",
      "Epoch [133/200], Loss: 0.2284\n",
      "Epoch [134/200], Loss: 0.2295\n",
      "Epoch [135/200], Loss: 0.2314\n",
      "Epoch [136/200], Loss: 0.2296\n",
      "Epoch [137/200], Loss: 0.2256\n",
      "Epoch [138/200], Loss: 0.2252\n",
      "Epoch [139/200], Loss: 0.2270\n",
      "Epoch [140/200], Loss: 0.2258\n",
      "Epoch [141/200], Loss: 0.2231\n",
      "Epoch [142/200], Loss: 0.2213\n",
      "Epoch [143/200], Loss: 0.2217\n",
      "Epoch [144/200], Loss: 0.2222\n",
      "Epoch [145/200], Loss: 0.2209\n",
      "Epoch [146/200], Loss: 0.2188\n",
      "Epoch [147/200], Loss: 0.2174\n",
      "Epoch [148/200], Loss: 0.2171\n",
      "Epoch [149/200], Loss: 0.2173\n",
      "Epoch [150/200], Loss: 0.2169\n",
      "Epoch [151/200], Loss: 0.2158\n",
      "Epoch [152/200], Loss: 0.2142\n",
      "Epoch [153/200], Loss: 0.2128\n",
      "Epoch [154/200], Loss: 0.2119\n",
      "Epoch [155/200], Loss: 0.2115\n",
      "Epoch [156/200], Loss: 0.2114\n",
      "Epoch [157/200], Loss: 0.2115\n",
      "Epoch [158/200], Loss: 0.2118\n",
      "Epoch [159/200], Loss: 0.2116\n",
      "Epoch [160/200], Loss: 0.2118\n",
      "Epoch [161/200], Loss: 0.2112\n",
      "Epoch [162/200], Loss: 0.2107\n",
      "Epoch [163/200], Loss: 0.2088\n",
      "Epoch [164/200], Loss: 0.2069\n",
      "Epoch [165/200], Loss: 0.2046\n",
      "Epoch [166/200], Loss: 0.2030\n",
      "Epoch [167/200], Loss: 0.2021\n",
      "Epoch [168/200], Loss: 0.2018\n",
      "Epoch [169/200], Loss: 0.2020\n",
      "Epoch [170/200], Loss: 0.2027\n",
      "Epoch [171/200], Loss: 0.2045\n",
      "Epoch [172/200], Loss: 0.2064\n",
      "Epoch [173/200], Loss: 0.2104\n",
      "Epoch [174/200], Loss: 0.2098\n",
      "Epoch [175/200], Loss: 0.2082\n",
      "Epoch [176/200], Loss: 0.1997\n",
      "Epoch [177/200], Loss: 0.1950\n",
      "Epoch [178/200], Loss: 0.1968\n",
      "Epoch [179/200], Loss: 0.2005\n",
      "Epoch [180/200], Loss: 0.2022\n",
      "Epoch [181/200], Loss: 0.1972\n",
      "Epoch [182/200], Loss: 0.1923\n",
      "Epoch [183/200], Loss: 0.1916\n",
      "Epoch [184/200], Loss: 0.1940\n",
      "Epoch [185/200], Loss: 0.1959\n",
      "Epoch [186/200], Loss: 0.1935\n",
      "Epoch [187/200], Loss: 0.1900\n",
      "Epoch [188/200], Loss: 0.1876\n",
      "Epoch [189/200], Loss: 0.1880\n",
      "Epoch [190/200], Loss: 0.1896\n",
      "Epoch [191/200], Loss: 0.1895\n",
      "Epoch [192/200], Loss: 0.1881\n",
      "Epoch [193/200], Loss: 0.1854\n",
      "Epoch [194/200], Loss: 0.1837\n",
      "Epoch [195/200], Loss: 0.1833\n",
      "Epoch [196/200], Loss: 0.1838\n",
      "Epoch [197/200], Loss: 0.1844\n",
      "Epoch [198/200], Loss: 0.1842\n",
      "Epoch [199/200], Loss: 0.1836\n",
      "Epoch [200/200], Loss: 0.1820\n"
     ]
    }
   ],
   "source": [
    "# Training loop\n",
    "num_epochs = 200\n",
    "for epoch in range(num_epochs):\n",
    "    model.train()\n",
    "    optimizer.zero_grad()\n",
    "    logits = model(data)\n",
    "    loss = criterion(logits[data.train_mask], data.y[data.train_mask])\n",
    "    loss.backward()\n",
    "    optimizer.step()\n",
    "\n",
    "    # Print training loss for each epoch\n",
    "    print(f'Epoch [{epoch+1}/{num_epochs}], Loss: {loss.item():.4f}')\n",
    "\n",
    "# Evaluate the GCN model\n",
    "model.eval()\n",
    "with torch.no_grad():\n",
    "    # Get predictions for the test set\n",
    "    test_logits = model(data)[data.test_mask]\n",
    "    _, test_preds = test_logits.max(dim=1)\n",
    "    test_preds = test_preds.cpu().numpy()"
   ]
  },
  {
   "cell_type": "code",
   "execution_count": 16,
   "id": "776a5e30",
   "metadata": {
    "editable": false,
    "execution": {
     "iopub.execute_input": "2023-04-23T11:52:28.947392Z",
     "iopub.status.busy": "2023-04-23T11:52:28.945832Z",
     "iopub.status.idle": "2023-04-23T11:52:28.979077Z",
     "shell.execute_reply": "2023-04-23T11:52:28.977568Z"
    },
    "papermill": {
     "duration": 0.056494,
     "end_time": "2023-04-23T11:52:28.982224",
     "exception": false,
     "start_time": "2023-04-23T11:52:28.925730",
     "status": "completed"
    },
    "tags": []
   },
   "outputs": [
    {
     "name": "stdout",
     "output_type": "stream",
     "text": [
      "<class 'numpy.ndarray'>\n"
     ]
    }
   ],
   "source": [
    "print(type(test_preds))\n",
    "\n",
    "# for i in range(len(test_preds)):\n",
    "#     if(test_preds[i]==0):\n",
    "#         test_preds[i] = \"ECE\"\n",
    "#     elif(test_preds[i]==1):\n",
    "#         test_preds[i] = \"CSE\"\n",
    "#     elif(test_preds[i]==2):\n",
    "#         test_preds[i] = \"EEE\"\n",
    "\n",
    "label_map_inv = {0: 'ECE', 1: 'CSE', 2: 'EEE'}\n",
    "\n",
    "# Convert numerical labels to string labels\n",
    "# test_preds = test_preds.astype(str).map(label_map_inv)\n",
    "\n",
    "test_preds = np.vectorize(label_map_inv.get)(test_preds)\n",
    "\n",
    "\n",
    "# Create submission.csv with predicted branches for test set\n",
    "node_ids = node_list['id'].values\n",
    "submission_df = pd.DataFrame({'id': node_ids[data.test_mask], 'branch': test_preds})\n",
    "submission_df.to_csv('submission.csv', index=False)"
   ]
  },
  {
   "cell_type": "markdown",
   "id": "b47d2e69",
   "metadata": {
    "editable": false,
    "papermill": {
     "duration": 0.018651,
     "end_time": "2023-04-23T11:52:29.019210",
     "exception": false,
     "start_time": "2023-04-23T11:52:29.000559",
     "status": "completed"
    },
    "tags": []
   },
   "source": [
    "# **GAT Model**"
   ]
  },
  {
   "cell_type": "code",
   "execution_count": 17,
   "id": "dc069bf7",
   "metadata": {
    "editable": false,
    "execution": {
     "iopub.execute_input": "2023-04-23T11:52:29.059640Z",
     "iopub.status.busy": "2023-04-23T11:52:29.058065Z",
     "iopub.status.idle": "2023-04-23T11:52:29.067501Z",
     "shell.execute_reply": "2023-04-23T11:52:29.066528Z"
    },
    "papermill": {
     "duration": 0.032777,
     "end_time": "2023-04-23T11:52:29.070329",
     "exception": false,
     "start_time": "2023-04-23T11:52:29.037552",
     "status": "completed"
    },
    "tags": []
   },
   "outputs": [],
   "source": [
    "# Define the GAT model\n",
    "class GAT(nn.Module):\n",
    "    def __init__(self, input_dim, hidden_dim, output_dim, num_heads, dropout):\n",
    "        super(GAT, self).__init__()\n",
    "        self.conv1 = gnn.GATConv(input_dim, hidden_dim, heads=num_heads, dropout=dropout)\n",
    "        self.conv2 = gnn.GATConv(hidden_dim * num_heads, output_dim, concat=False, dropout=dropout)\n",
    "\n",
    "    def forward(self, data):\n",
    "        x, edge_index = data.x, data.edge_index\n",
    "        x = self.conv1(x, edge_index)\n",
    "        x = torch.relu(x)\n",
    "        x = self.conv2(x, edge_index)\n",
    "        return x\n",
    "\n"
   ]
  },
  {
   "cell_type": "code",
   "execution_count": 18,
   "id": "88fe335c",
   "metadata": {
    "execution": {
     "iopub.execute_input": "2023-04-23T11:52:29.110642Z",
     "iopub.status.busy": "2023-04-23T11:52:29.109122Z",
     "iopub.status.idle": "2023-04-23T11:52:29.115980Z",
     "shell.execute_reply": "2023-04-23T11:52:29.114965Z"
    },
    "papermill": {
     "duration": 0.029855,
     "end_time": "2023-04-23T11:52:29.118611",
     "exception": false,
     "start_time": "2023-04-23T11:52:29.088756",
     "status": "completed"
    },
    "tags": []
   },
   "outputs": [],
   "source": [
    "import torch\n",
    "import torch.nn as nn\n",
    "import torch.optim as optim\n",
    "import torch_geometric.nn as gnn\n",
    "from torch_geometric.data import Data"
   ]
  },
  {
   "cell_type": "code",
   "execution_count": 19,
   "id": "0a411dea",
   "metadata": {
    "editable": false,
    "execution": {
     "iopub.execute_input": "2023-04-23T11:52:29.158834Z",
     "iopub.status.busy": "2023-04-23T11:52:29.157873Z",
     "iopub.status.idle": "2023-04-23T11:52:29.171210Z",
     "shell.execute_reply": "2023-04-23T11:52:29.170026Z"
    },
    "papermill": {
     "duration": 0.037378,
     "end_time": "2023-04-23T11:52:29.174646",
     "exception": false,
     "start_time": "2023-04-23T11:52:29.137268",
     "status": "completed"
    },
    "tags": []
   },
   "outputs": [],
   "source": [
    "# Initialize the GAT model\n",
    "input_dim = node_features.shape[1]\n",
    "hidden_dim = 64\n",
    "output_dim = 3 \n",
    "num_heads = 4 \n",
    "dropout = 0.5 \n",
    "model = GAT(input_dim, hidden_dim, output_dim, num_heads, dropout)\n",
    "\n",
    "# Define the loss function and optimizer\n",
    "criterion = nn.CrossEntropyLoss()\n",
    "optimizer = optim.Adam(model.parameters(), lr=0.025)\n",
    "\n"
   ]
  },
  {
   "cell_type": "code",
   "execution_count": 20,
   "id": "8cbb61ae",
   "metadata": {
    "editable": false,
    "execution": {
     "iopub.execute_input": "2023-04-23T11:52:29.215370Z",
     "iopub.status.busy": "2023-04-23T11:52:29.214833Z",
     "iopub.status.idle": "2023-04-23T11:53:55.386386Z",
     "shell.execute_reply": "2023-04-23T11:53:55.384670Z"
    },
    "papermill": {
     "duration": 86.196091,
     "end_time": "2023-04-23T11:53:55.389906",
     "exception": false,
     "start_time": "2023-04-23T11:52:29.193815",
     "status": "completed"
    },
    "tags": []
   },
   "outputs": [
    {
     "name": "stdout",
     "output_type": "stream",
     "text": [
      "Epoch [1/100], Loss: 1.0987\n",
      "Epoch [2/100], Loss: 1.0235\n",
      "Epoch [3/100], Loss: 0.9873\n",
      "Epoch [4/100], Loss: 0.9131\n",
      "Epoch [5/100], Loss: 0.8596\n",
      "Epoch [6/100], Loss: 0.7998\n",
      "Epoch [7/100], Loss: 0.7399\n",
      "Epoch [8/100], Loss: 0.6926\n",
      "Epoch [9/100], Loss: 0.6567\n",
      "Epoch [10/100], Loss: 0.6309\n",
      "Epoch [11/100], Loss: 0.6222\n",
      "Epoch [12/100], Loss: 0.6154\n",
      "Epoch [13/100], Loss: 0.6048\n",
      "Epoch [14/100], Loss: 0.6147\n",
      "Epoch [15/100], Loss: 0.5866\n",
      "Epoch [16/100], Loss: 0.5947\n",
      "Epoch [17/100], Loss: 0.5872\n",
      "Epoch [18/100], Loss: 0.5775\n",
      "Epoch [19/100], Loss: 0.5665\n",
      "Epoch [20/100], Loss: 0.5615\n",
      "Epoch [21/100], Loss: 0.5446\n",
      "Epoch [22/100], Loss: 0.5463\n",
      "Epoch [23/100], Loss: 0.5422\n",
      "Epoch [24/100], Loss: 0.5310\n",
      "Epoch [25/100], Loss: 0.5350\n",
      "Epoch [26/100], Loss: 0.5221\n",
      "Epoch [27/100], Loss: 0.5191\n",
      "Epoch [28/100], Loss: 0.5183\n",
      "Epoch [29/100], Loss: 0.5212\n",
      "Epoch [30/100], Loss: 0.5100\n",
      "Epoch [31/100], Loss: 0.5114\n",
      "Epoch [32/100], Loss: 0.5080\n",
      "Epoch [33/100], Loss: 0.5039\n",
      "Epoch [34/100], Loss: 0.4932\n",
      "Epoch [35/100], Loss: 0.4929\n",
      "Epoch [36/100], Loss: 0.4880\n",
      "Epoch [37/100], Loss: 0.4936\n",
      "Epoch [38/100], Loss: 0.4880\n",
      "Epoch [39/100], Loss: 0.4828\n",
      "Epoch [40/100], Loss: 0.4904\n",
      "Epoch [41/100], Loss: 0.4860\n",
      "Epoch [42/100], Loss: 0.4822\n",
      "Epoch [43/100], Loss: 0.4828\n",
      "Epoch [44/100], Loss: 0.4774\n",
      "Epoch [45/100], Loss: 0.4822\n",
      "Epoch [46/100], Loss: 0.4738\n",
      "Epoch [47/100], Loss: 0.4704\n",
      "Epoch [48/100], Loss: 0.4672\n",
      "Epoch [49/100], Loss: 0.4709\n",
      "Epoch [50/100], Loss: 0.4722\n",
      "Epoch [51/100], Loss: 0.4686\n",
      "Epoch [52/100], Loss: 0.4695\n",
      "Epoch [53/100], Loss: 0.4735\n",
      "Epoch [54/100], Loss: 0.4732\n",
      "Epoch [55/100], Loss: 0.4639\n",
      "Epoch [56/100], Loss: 0.4714\n",
      "Epoch [57/100], Loss: 0.4636\n",
      "Epoch [58/100], Loss: 0.4743\n",
      "Epoch [59/100], Loss: 0.4555\n",
      "Epoch [60/100], Loss: 0.4671\n",
      "Epoch [61/100], Loss: 0.4618\n",
      "Epoch [62/100], Loss: 0.4544\n",
      "Epoch [63/100], Loss: 0.4584\n",
      "Epoch [64/100], Loss: 0.4525\n",
      "Epoch [65/100], Loss: 0.4553\n",
      "Epoch [66/100], Loss: 0.4550\n",
      "Epoch [67/100], Loss: 0.4532\n",
      "Epoch [68/100], Loss: 0.4505\n",
      "Epoch [69/100], Loss: 0.4621\n",
      "Epoch [70/100], Loss: 0.4531\n",
      "Epoch [71/100], Loss: 0.4507\n",
      "Epoch [72/100], Loss: 0.4547\n",
      "Epoch [73/100], Loss: 0.4515\n",
      "Epoch [74/100], Loss: 0.4503\n",
      "Epoch [75/100], Loss: 0.4489\n",
      "Epoch [76/100], Loss: 0.4488\n",
      "Epoch [77/100], Loss: 0.4507\n",
      "Epoch [78/100], Loss: 0.4492\n",
      "Epoch [79/100], Loss: 0.4503\n",
      "Epoch [80/100], Loss: 0.4425\n",
      "Epoch [81/100], Loss: 0.4402\n",
      "Epoch [82/100], Loss: 0.4409\n",
      "Epoch [83/100], Loss: 0.4450\n",
      "Epoch [84/100], Loss: 0.4377\n",
      "Epoch [85/100], Loss: 0.4421\n",
      "Epoch [86/100], Loss: 0.4368\n",
      "Epoch [87/100], Loss: 0.4406\n",
      "Epoch [88/100], Loss: 0.4378\n",
      "Epoch [89/100], Loss: 0.4347\n",
      "Epoch [90/100], Loss: 0.4368\n",
      "Epoch [91/100], Loss: 0.4391\n",
      "Epoch [92/100], Loss: 0.4355\n",
      "Epoch [93/100], Loss: 0.4343\n",
      "Epoch [94/100], Loss: 0.4395\n",
      "Epoch [95/100], Loss: 0.4296\n",
      "Epoch [96/100], Loss: 0.4406\n",
      "Epoch [97/100], Loss: 0.4304\n",
      "Epoch [98/100], Loss: 0.4316\n",
      "Epoch [99/100], Loss: 0.4244\n",
      "Epoch [100/100], Loss: 0.4291\n"
     ]
    }
   ],
   "source": [
    "# Training loop\n",
    "num_epochs = 100\n",
    "for epoch in range(num_epochs):\n",
    "    model.train()\n",
    "    optimizer.zero_grad()\n",
    "    logits = model(data)\n",
    "    loss = criterion(logits[data.train_mask], data.y[data.train_mask])\n",
    "    loss.backward()\n",
    "    optimizer.step()\n",
    "\n",
    "    # Print training loss for each epoch\n",
    "    print(f'Epoch [{epoch+1}/{num_epochs}], Loss: {loss.item():.4f}')\n",
    "\n"
   ]
  },
  {
   "cell_type": "code",
   "execution_count": 21,
   "id": "9a9ae89e",
   "metadata": {
    "execution": {
     "iopub.execute_input": "2023-04-23T11:53:55.443562Z",
     "iopub.status.busy": "2023-04-23T11:53:55.442535Z",
     "iopub.status.idle": "2023-04-23T11:53:55.798422Z",
     "shell.execute_reply": "2023-04-23T11:53:55.797310Z"
    },
    "papermill": {
     "duration": 0.386678,
     "end_time": "2023-04-23T11:53:55.801600",
     "exception": false,
     "start_time": "2023-04-23T11:53:55.414922",
     "status": "completed"
    },
    "tags": []
   },
   "outputs": [],
   "source": [
    "# Evaluate the GAT model\n",
    "model.eval()\n",
    "with torch.no_grad():\n",
    "    # Get predictions for the test set\n",
    "    test_logits = model(data)[data.test_mask]\n",
    "    _, test_preds = test_logits.max(dim=1)\n",
    "    test_preds = test_preds.cpu().numpy()\n",
    "\n",
    "# Create a mapping of branch labels to numerical values\n",
    "label_map = {i: label for i, label in enumerate(node_list['branch'].unique())}\n",
    "\n",
    "# Convert numerical labels to string labels\n",
    "test_preds = np.vectorize(label_map.get)(test_preds)\n",
    "\n",
    "# Create submission.csv with predicted branches for test set\n",
    "node_ids = node_list['id'].values\n",
    "submission_df = pd.DataFrame({'id': node_ids[data.test_mask], 'branch': test_preds})\n",
    "# submission_df.to_csv('submission1.csv', index=False)"
   ]
  },
  {
   "cell_type": "code",
   "execution_count": 22,
   "id": "f6aaef56",
   "metadata": {
    "execution": {
     "iopub.execute_input": "2023-04-23T11:53:55.854343Z",
     "iopub.status.busy": "2023-04-23T11:53:55.853310Z",
     "iopub.status.idle": "2023-04-23T11:53:55.859405Z",
     "shell.execute_reply": "2023-04-23T11:53:55.858350Z"
    },
    "papermill": {
     "duration": 0.035837,
     "end_time": "2023-04-23T11:53:55.862335",
     "exception": false,
     "start_time": "2023-04-23T11:53:55.826498",
     "status": "completed"
    },
    "tags": []
   },
   "outputs": [],
   "source": [
    "# import matplotlib.pyplot as plt\n",
    "# from sklearn.manifold import TSNE\n",
    "\n",
    "# # Extract node embeddings from the GCN model\n",
    "# with torch.no_grad():\n",
    "#     model.eval()\n",
    "#     embeddings = model(data).detach().numpy()\n",
    "\n",
    "# # Apply t-SNE for dimensionality reduction\n",
    "# tsne = TSNE(n_components=2)\n",
    "# embeddings_tsne = tsne.fit_transform(embeddings)\n",
    "\n",
    "# # Plot node embeddings before training\n",
    "# plt.figure(figsize=(10, 5))\n",
    "# plt.subplot(1, 2, 1)\n",
    "# plt.scatter(embeddings_tsne[:, 0], embeddings_tsne[:, 1], c=labels.numpy(), cmap='viridis')\n",
    "# plt.title('Node Embeddings before Training')\n",
    "# plt.colorbar()"
   ]
  }
 ],
 "metadata": {
  "kernelspec": {
   "display_name": "Python 3",
   "language": "python",
   "name": "python3"
  },
  "language_info": {
   "codemirror_mode": {
    "name": "ipython",
    "version": 3
   },
   "file_extension": ".py",
   "mimetype": "text/x-python",
   "name": "python",
   "nbconvert_exporter": "python",
   "pygments_lexer": "ipython3",
   "version": "3.7.12"
  },
  "papermill": {
   "default_parameters": {},
   "duration": 213.182338,
   "end_time": "2023-04-23T11:53:58.224831",
   "environment_variables": {},
   "exception": null,
   "input_path": "__notebook__.ipynb",
   "output_path": "__notebook__.ipynb",
   "parameters": {},
   "start_time": "2023-04-23T11:50:25.042493",
   "version": "2.4.0"
  }
 },
 "nbformat": 4,
 "nbformat_minor": 5
}
